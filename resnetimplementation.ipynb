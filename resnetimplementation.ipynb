{
 "cells": [
  {
   "cell_type": "markdown",
   "metadata": {},
   "source": [
    "# Part 1: To mel spectogram+ train\n",
    "## Method\n",
    "\n",
    "Step 1: convert the audio files into Mel Spectrograms as images.\n",
    "\n",
    "Step 2: Use Mel Spectrograms as the new dataset to classify the genres. Use a pretrained ResNet18 model for this task."
   ]
  },
  {
   "cell_type": "code",
   "execution_count": 37,
   "metadata": {
    "_cell_guid": "b1076dfc-b9ad-4769-8c92-a6c4dae69d19",
    "_uuid": "8f2839f25d086af736a60e9eeb907d3b93b6e0e5",
    "execution": {
     "iopub.execute_input": "2022-12-14T22:16:08.193690Z",
     "iopub.status.busy": "2022-12-14T22:16:08.192826Z",
     "iopub.status.idle": "2022-12-14T22:16:08.200226Z",
     "shell.execute_reply": "2022-12-14T22:16:08.199094Z",
     "shell.execute_reply.started": "2022-12-14T22:16:08.193643Z"
    }
   },
   "outputs": [],
   "source": [
    "import pandas as pd\n",
    "import numpy as np\n",
    "from numpy import random\n",
    "import matplotlib.pyplot as plt\n",
    "import glob\n",
    "import os\n",
    "import librosa\n",
    "import librosa.display\n",
    "import torch\n",
    "from torch import nn\n",
    "from torchvision import models, transforms, datasets\n",
    "from tqdm import tqdm\n",
    "import IPython"
   ]
  },
  {
   "cell_type": "markdown",
   "metadata": {},
   "source": [
    "## Defining audio parameters"
   ]
  },
  {
   "cell_type": "code",
   "execution_count": 3,
   "metadata": {
    "execution": {
     "iopub.execute_input": "2022-12-14T21:50:35.211665Z",
     "iopub.status.busy": "2022-12-14T21:50:35.209052Z",
     "iopub.status.idle": "2022-12-14T21:50:35.289737Z",
     "shell.execute_reply": "2022-12-14T21:50:35.288554Z",
     "shell.execute_reply.started": "2022-12-14T21:50:35.211626Z"
    }
   },
   "outputs": [],
   "source": [
    "path = \"../input/gtzan-dataset-music-genre-classification/\"\n",
    "path_audio_files = path + \"Data/genres_original/\"\n",
    "path_imgs = \"./mel_spectrogram_imgs/\"\n",
    "batch_size = 32\n",
    "hop_length = 512\n",
    "n_fft = 2048\n",
    "device = 'cuda:0' if torch.cuda.is_available() else 'cpu'\n",
    "genre_dict = {\"blues\":0,\"classical\":1,\"country\":2,\"disco\":3,\"hiphop\":4,\"jazz\":5,\"metal\":6,\"pop\":7,\"reggae\":8,\"rock\":9}"
   ]
  },
  {
   "cell_type": "markdown",
   "metadata": {},
   "source": [
    "## Getting Mel Spectograms from Audio"
   ]
  },
  {
   "cell_type": "code",
   "execution_count": 4,
   "metadata": {
    "execution": {
     "iopub.execute_input": "2022-12-14T21:50:35.292787Z",
     "iopub.status.busy": "2022-12-14T21:50:35.292405Z",
     "iopub.status.idle": "2022-12-14T21:55:00.215672Z",
     "shell.execute_reply": "2022-12-14T21:55:00.214063Z",
     "shell.execute_reply.started": "2022-12-14T21:50:35.292737Z"
    }
   },
   "outputs": [
    {
     "name": "stdout",
     "output_type": "stream",
     "text": [
      "transforming\n"
     ]
    },
    {
     "name": "stderr",
     "output_type": "stream",
     "text": [
      "100%|██████████| 10/10 [01:34<00:00,  9.40s/it]\n"
     ]
    },
    {
     "name": "stdout",
     "output_type": "stream",
     "text": [
      "Saving Images\n"
     ]
    },
    {
     "name": "stderr",
     "output_type": "stream",
     "text": [
      "100%|██████████| 10/10 [02:50<00:00, 17.08s/it]\n"
     ]
    }
   ],
   "source": [
    "## Transforming the Audio Files into Mel Spectrograms\n",
    "print(\"transforming\")\n",
    "mel_spectogram_data = {}\n",
    "for genre in tqdm(genre_dict.keys()): \n",
    "    \n",
    "    mel_spectogram_data[genre] = []\n",
    "    for name in glob.glob(path_audio_files + genre + \"/*\"):\n",
    "        ## removing  file with unknown format\n",
    "        if(name != \"../input/gtzan-dataset-music-genre-classification/Data/genres_original/jazz/jazz.00054.wav\"):\n",
    "            data,sampling_rate = librosa.load(name)\n",
    "            mel_spec = librosa.feature.melspectrogram(y = data.ravel(), \n",
    "                                                      sr=sampling_rate,\n",
    "                                                      hop_length = hop_length)\n",
    "            mel_spec_db = librosa.amplitude_to_db(mel_spec, ref=np.max)\n",
    "            mel_spectogram_data[genre].append(mel_spec_db)\n",
    "            \n",
    "\n",
    "print(\"Saving Images\")\n",
    "## Save Mel Spectrogram images           \n",
    "try:\n",
    "    os.mkdir(path_imgs)\n",
    "except:\n",
    "    print(\"directory exists\")  \n",
    "for genre in tqdm(genre_dict.keys()):\n",
    "    try:\n",
    "        os.mkdir(path_imgs + genre)\n",
    "    except:\n",
    "        pass    \n",
    "    for i in range(len(mel_spectogram_data[genre])):\n",
    "        fig, ax = plt.subplots(1, figsize=(12,8))\n",
    "        img = librosa.display.specshow(mel_spectogram_data[genre][i],\n",
    "                                       sr = sampling_rate, \n",
    "                                       hop_length = hop_length,\n",
    "                                       cmap = 'gray',ax=ax)\n",
    "        fig.savefig(path_imgs + genre + \"/\" + genre + \"_\" + str(i) + \".png\")\n",
    "        plt.close()"
   ]
  },
  {
   "cell_type": "code",
   "execution_count": 5,
   "metadata": {
    "execution": {
     "iopub.execute_input": "2022-12-14T21:55:00.219129Z",
     "iopub.status.busy": "2022-12-14T21:55:00.218743Z",
     "iopub.status.idle": "2022-12-14T21:55:02.299431Z",
     "shell.execute_reply": "2022-12-14T21:55:02.298186Z",
     "shell.execute_reply.started": "2022-12-14T21:55:00.219093Z"
    }
   },
   "outputs": [
    {
     "data": {
      "text/plain": [
       "2037949"
      ]
     },
     "execution_count": 5,
     "metadata": {},
     "output_type": "execute_result"
    }
   ],
   "source": [
    "import gc\n",
    "gc.collect()"
   ]
  },
  {
   "cell_type": "markdown",
   "metadata": {},
   "source": [
    "## Load and Transform the Data"
   ]
  },
  {
   "cell_type": "code",
   "execution_count": 6,
   "metadata": {
    "execution": {
     "iopub.execute_input": "2022-12-14T21:55:02.301158Z",
     "iopub.status.busy": "2022-12-14T21:55:02.300862Z",
     "iopub.status.idle": "2022-12-14T21:55:02.332403Z",
     "shell.execute_reply": "2022-12-14T21:55:02.331288Z",
     "shell.execute_reply.started": "2022-12-14T21:55:02.301132Z"
    }
   },
   "outputs": [
    {
     "name": "stdout",
     "output_type": "stream",
     "text": [
      "Train Size:800; Validation Size:100; Test Size:99\n"
     ]
    }
   ],
   "source": [
    "# Define Tranforms\n",
    "train_transform = transforms.Compose([\n",
    "    transforms.ToTensor(),\n",
    "    transforms.Normalize(mean=[0.4931, 0.9151, 0.9960], std=[0.4495, 0.1716, 0.0602])\n",
    "])\n",
    "\n",
    "test_transform = transforms.Compose([\n",
    "    transforms.ToTensor(),\n",
    "    transforms.Normalize(mean=[0.4931, 0.9151, 0.9960], std=[0.4495, 0.1716, 0.0602])\n",
    "])\n",
    "\n",
    "# Load the data\n",
    "train_dataset = datasets.ImageFolder(path_imgs, transform = train_transform)\n",
    "val_dataset = datasets.ImageFolder(path_imgs, transform = test_transform)\n",
    "test_dataset = datasets.ImageFolder(path_imgs, transform = test_transform)\n",
    "\n",
    "\n",
    "torch.manual_seed(1)\n",
    "num_train_samples = len(train_dataset)\n",
    "\n",
    "# Shuffle\n",
    "indices = torch.randperm(num_train_samples)\n",
    "\n",
    "# Train and Validation Split\n",
    "train_testval_split = 0.2\n",
    "train_split = int(num_train_samples * train_testval_split)\n",
    "val_split = int(train_split * 0.5)\n",
    "\n",
    "train_subset = torch.utils.data.Subset(train_dataset, indices[train_split:])\n",
    "val_subset = torch.utils.data.Subset(val_dataset, indices[val_split:train_split])\n",
    "test_subset = torch.utils.data.Subset(test_dataset, indices[:val_split])\n",
    "\n",
    "\n",
    "print(f\"Train Size:{len(train_subset)}; Validation Size:{len(val_subset)}; Test Size:{len(test_subset)}\")\n",
    "\n",
    "# Make DataLoaders \n",
    "train_dataloader = torch.utils.data.DataLoader(\n",
    "    dataset=train_subset, \n",
    "    batch_size=batch_size,\n",
    "    shuffle=True\n",
    ")\n",
    "\n",
    "val_dataloader = torch.utils.data.DataLoader(\n",
    "    dataset=val_subset,\n",
    "    batch_size=batch_size,\n",
    "    shuffle=False\n",
    ")\n",
    "\n",
    "# Classes\n",
    "classes = train_dataloader.dataset.dataset.classes"
   ]
  },
  {
   "cell_type": "code",
   "execution_count": 7,
   "metadata": {
    "execution": {
     "iopub.execute_input": "2022-12-14T21:55:02.334402Z",
     "iopub.status.busy": "2022-12-14T21:55:02.334035Z",
     "iopub.status.idle": "2022-12-14T21:55:03.320954Z",
     "shell.execute_reply": "2022-12-14T21:55:03.319987Z",
     "shell.execute_reply.started": "2022-12-14T21:55:02.334366Z"
    }
   },
   "outputs": [],
   "source": [
    "def mean_std(loader):\n",
    "    images, lebels = next(iter(loader))\n",
    "    # shape of images = [b,c,w,h]\n",
    "    mean, std = images.mean([0,2,3]), images.std([0,2,3])\n",
    "    return mean, std\n",
    "\n",
    "mean, std = mean_std(train_dataloader)"
   ]
  },
  {
   "cell_type": "markdown",
   "metadata": {},
   "source": [
    "## ResNet18 - Transfer Learning"
   ]
  },
  {
   "cell_type": "code",
   "execution_count": 45,
   "metadata": {
    "execution": {
     "iopub.execute_input": "2022-12-14T22:36:08.007917Z",
     "iopub.status.busy": "2022-12-14T22:36:08.007031Z",
     "iopub.status.idle": "2022-12-14T22:36:08.509562Z",
     "shell.execute_reply": "2022-12-14T22:36:08.508539Z",
     "shell.execute_reply.started": "2022-12-14T22:36:08.007870Z"
    }
   },
   "outputs": [],
   "source": [
    "# Load Resnet 18 pretrained\n",
    "resnet = models.resnet18(pretrained=True).cuda()\n",
    "for parameter in resnet.parameters():\n",
    "    parameter.requires_grad = False\n",
    "    \n",
    "    \n",
    "# Replacing the last Layer\n",
    "in_features = resnet.fc.in_features\n",
    "fc = nn.Linear(in_features=in_features, out_features=len(classes)).cuda()\n",
    "nn.init.kaiming_uniform_(fc.weight.data) \n",
    "resnet.fc = fc\n",
    "\n",
    "\n",
    "# Define the Loss and Optimizer Functions\n",
    "endparams = []\n",
    "for name, param in resnet.named_parameters():\n",
    "    if param.requires_grad == True:\n",
    "        endparams.append(param)\n",
    "criterion = nn.CrossEntropyLoss()\n",
    "optimizer = torch.optim.Adam(endparams, lr=0.001)"
   ]
  },
  {
   "cell_type": "markdown",
   "metadata": {},
   "source": [
    "## Training the Model"
   ]
  },
  {
   "cell_type": "code",
   "execution_count": 46,
   "metadata": {
    "execution": {
     "iopub.execute_input": "2022-12-14T22:36:08.542906Z",
     "iopub.status.busy": "2022-12-14T22:36:08.542607Z",
     "iopub.status.idle": "2022-12-14T22:36:08.556571Z",
     "shell.execute_reply": "2022-12-14T22:36:08.555630Z",
     "shell.execute_reply.started": "2022-12-14T22:36:08.542879Z"
    }
   },
   "outputs": [],
   "source": [
    "def train(model, criterion, optimizer, train_dataloader,test_dataloader,num_epochs):\n",
    "    \n",
    "    train_losses, val_losses = [], []\n",
    "    \n",
    "    model.to(device)\n",
    "    for epoch in tqdm(range(num_epochs)):\n",
    "        running_loss = 0\n",
    "        correct_train = 0\n",
    "        total_train = 0\n",
    "        \n",
    "        model.train()\n",
    "        for i, (images, labels) in enumerate(train_dataloader):\n",
    "            images = images.to(device)\n",
    "            labels = labels.to(device)\n",
    "            \n",
    "            # Forward pass\n",
    "            output = model(images)\n",
    "            loss = criterion(output, labels)\n",
    "\n",
    "            correct_train += (torch.max(output, dim=1)[1] == labels).sum()\n",
    "            total_train += labels.size(0)\n",
    "            \n",
    "            # Backward and optimize\n",
    "            optimizer.zero_grad()\n",
    "            loss.backward()\n",
    "            optimizer.step()\n",
    "\n",
    "            running_loss += loss.item()\n",
    "            \n",
    "        ## calculate validation accuracy and loss\n",
    "        with torch.no_grad():\n",
    "            model.eval()\n",
    "            correct_val, total_val = 0, 0\n",
    "            val_loss = 0\n",
    "            for images, labels in test_dataloader:\n",
    "                images = images.to(device)\n",
    "                labels = labels.to(device)\n",
    "                output = model(images)\n",
    "                loss = criterion(output, labels)\n",
    "                val_loss += loss.item()\n",
    "\n",
    "                correct_val += (torch.max(output, dim=1)[1] == labels).sum()\n",
    "                total_val += labels.size(0)\n",
    "        \n",
    "        ## Logging\n",
    "        print(f'Epoch {epoch + 1}.', end=' ')\n",
    "        print(f'Train loss {running_loss / total_train:.3f}.', end=' ')\n",
    "        print(f'Train acc {correct_train / total_train * 100:.3f}.', end=' ')\n",
    "        print(f'Val loss {val_loss / total_val :.3f}. Val acc {correct_val / total_val * 100:.3f}.', end=' ')\n",
    "\n",
    "\n",
    "        train_losses.append(running_loss / total_train)\n",
    "        val_losses.append(val_loss / total_val)\n",
    "\n",
    "\n",
    "        torch.save(model, f'checkpoint_{correct_val / total_val * 100:.2f}')\n",
    "    \n",
    "    #return updated model and losses\n",
    "    return model, train_losses, val_losses"
   ]
  },
  {
   "cell_type": "code",
   "execution_count": 47,
   "metadata": {
    "execution": {
     "iopub.execute_input": "2022-12-14T22:36:09.595647Z",
     "iopub.status.busy": "2022-12-14T22:36:09.594907Z",
     "iopub.status.idle": "2022-12-14T22:46:35.090311Z",
     "shell.execute_reply": "2022-12-14T22:46:35.088143Z",
     "shell.execute_reply.started": "2022-12-14T22:36:09.595609Z"
    }
   },
   "outputs": [
    {
     "name": "stderr",
     "output_type": "stream",
     "text": [
      "  3%|▎         | 1/30 [00:20<10:06, 20.92s/it]"
     ]
    },
    {
     "name": "stdout",
     "output_type": "stream",
     "text": [
      "Epoch 1. Train loss 0.074. Train acc 18.375. Val loss 0.086. Val acc 29.000. "
     ]
    },
    {
     "name": "stderr",
     "output_type": "stream",
     "text": [
      "  7%|▋         | 2/30 [00:41<09:45, 20.91s/it]"
     ]
    },
    {
     "name": "stdout",
     "output_type": "stream",
     "text": [
      "Epoch 2. Train loss 0.063. Train acc 30.125. Val loss 0.075. Val acc 40.000. "
     ]
    },
    {
     "name": "stderr",
     "output_type": "stream",
     "text": [
      " 10%|█         | 3/30 [01:02<09:20, 20.76s/it]"
     ]
    },
    {
     "name": "stdout",
     "output_type": "stream",
     "text": [
      "Epoch 3. Train loss 0.056. Train acc 38.375. Val loss 0.068. Val acc 43.000. "
     ]
    },
    {
     "name": "stderr",
     "output_type": "stream",
     "text": [
      " 13%|█▎        | 4/30 [01:23<09:02, 20.86s/it]"
     ]
    },
    {
     "name": "stdout",
     "output_type": "stream",
     "text": [
      "Epoch 4. Train loss 0.052. Train acc 47.000. Val loss 0.062. Val acc 46.000. "
     ]
    },
    {
     "name": "stderr",
     "output_type": "stream",
     "text": [
      " 17%|█▋        | 5/30 [01:44<08:41, 20.87s/it]"
     ]
    },
    {
     "name": "stdout",
     "output_type": "stream",
     "text": [
      "Epoch 5. Train loss 0.049. Train acc 51.250. Val loss 0.057. Val acc 51.000. "
     ]
    },
    {
     "name": "stderr",
     "output_type": "stream",
     "text": [
      " 20%|██        | 6/30 [02:04<08:18, 20.78s/it]"
     ]
    },
    {
     "name": "stdout",
     "output_type": "stream",
     "text": [
      "Epoch 6. Train loss 0.046. Train acc 54.625. Val loss 0.056. Val acc 54.000. "
     ]
    },
    {
     "name": "stderr",
     "output_type": "stream",
     "text": [
      " 23%|██▎       | 7/30 [02:25<07:58, 20.79s/it]"
     ]
    },
    {
     "name": "stdout",
     "output_type": "stream",
     "text": [
      "Epoch 7. Train loss 0.043. Train acc 57.750. Val loss 0.053. Val acc 50.000. "
     ]
    },
    {
     "name": "stderr",
     "output_type": "stream",
     "text": [
      " 27%|██▋       | 8/30 [02:46<07:35, 20.72s/it]"
     ]
    },
    {
     "name": "stdout",
     "output_type": "stream",
     "text": [
      "Epoch 8. Train loss 0.042. Train acc 57.500. Val loss 0.050. Val acc 56.000. "
     ]
    },
    {
     "name": "stderr",
     "output_type": "stream",
     "text": [
      " 30%|███       | 9/30 [03:06<07:13, 20.66s/it]"
     ]
    },
    {
     "name": "stdout",
     "output_type": "stream",
     "text": [
      "Epoch 9. Train loss 0.040. Train acc 60.625. Val loss 0.049. Val acc 63.000. "
     ]
    },
    {
     "name": "stderr",
     "output_type": "stream",
     "text": [
      " 33%|███▎      | 10/30 [03:27<06:54, 20.72s/it]"
     ]
    },
    {
     "name": "stdout",
     "output_type": "stream",
     "text": [
      "Epoch 10. Train loss 0.039. Train acc 62.250. Val loss 0.046. Val acc 61.000. "
     ]
    },
    {
     "name": "stderr",
     "output_type": "stream",
     "text": [
      " 37%|███▋      | 11/30 [03:48<06:33, 20.73s/it]"
     ]
    },
    {
     "name": "stdout",
     "output_type": "stream",
     "text": [
      "Epoch 11. Train loss 0.038. Train acc 63.750. Val loss 0.046. Val acc 65.000. "
     ]
    },
    {
     "name": "stderr",
     "output_type": "stream",
     "text": [
      " 40%|████      | 12/30 [04:09<06:14, 20.82s/it]"
     ]
    },
    {
     "name": "stdout",
     "output_type": "stream",
     "text": [
      "Epoch 12. Train loss 0.036. Train acc 64.875. Val loss 0.048. Val acc 61.000. "
     ]
    },
    {
     "name": "stderr",
     "output_type": "stream",
     "text": [
      " 43%|████▎     | 13/30 [04:31<05:58, 21.06s/it]"
     ]
    },
    {
     "name": "stdout",
     "output_type": "stream",
     "text": [
      "Epoch 13. Train loss 0.036. Train acc 65.500. Val loss 0.048. Val acc 61.000. "
     ]
    },
    {
     "name": "stderr",
     "output_type": "stream",
     "text": [
      " 47%|████▋     | 14/30 [04:52<05:38, 21.13s/it]"
     ]
    },
    {
     "name": "stdout",
     "output_type": "stream",
     "text": [
      "Epoch 14. Train loss 0.036. Train acc 63.625. Val loss 0.043. Val acc 66.000. "
     ]
    },
    {
     "name": "stderr",
     "output_type": "stream",
     "text": [
      " 50%|█████     | 15/30 [05:13<05:16, 21.08s/it]"
     ]
    },
    {
     "name": "stdout",
     "output_type": "stream",
     "text": [
      "Epoch 15. Train loss 0.034. Train acc 65.875. Val loss 0.044. Val acc 65.000. "
     ]
    },
    {
     "name": "stderr",
     "output_type": "stream",
     "text": [
      " 53%|█████▎    | 16/30 [05:34<04:56, 21.15s/it]"
     ]
    },
    {
     "name": "stdout",
     "output_type": "stream",
     "text": [
      "Epoch 16. Train loss 0.034. Train acc 67.250. Val loss 0.045. Val acc 57.000. "
     ]
    },
    {
     "name": "stderr",
     "output_type": "stream",
     "text": [
      " 57%|█████▋    | 17/30 [05:55<04:35, 21.18s/it]"
     ]
    },
    {
     "name": "stdout",
     "output_type": "stream",
     "text": [
      "Epoch 17. Train loss 0.033. Train acc 68.625. Val loss 0.040. Val acc 69.000. "
     ]
    },
    {
     "name": "stderr",
     "output_type": "stream",
     "text": [
      " 60%|██████    | 18/30 [06:16<04:12, 21.03s/it]"
     ]
    },
    {
     "name": "stdout",
     "output_type": "stream",
     "text": [
      "Epoch 18. Train loss 0.032. Train acc 68.625. Val loss 0.039. Val acc 69.000. "
     ]
    },
    {
     "name": "stderr",
     "output_type": "stream",
     "text": [
      " 63%|██████▎   | 19/30 [06:37<03:50, 20.94s/it]"
     ]
    },
    {
     "name": "stdout",
     "output_type": "stream",
     "text": [
      "Epoch 19. Train loss 0.032. Train acc 68.625. Val loss 0.040. Val acc 68.000. "
     ]
    },
    {
     "name": "stderr",
     "output_type": "stream",
     "text": [
      " 67%|██████▋   | 20/30 [06:58<03:28, 20.89s/it]"
     ]
    },
    {
     "name": "stdout",
     "output_type": "stream",
     "text": [
      "Epoch 20. Train loss 0.031. Train acc 69.875. Val loss 0.040. Val acc 66.000. "
     ]
    },
    {
     "name": "stderr",
     "output_type": "stream",
     "text": [
      " 70%|███████   | 21/30 [07:18<03:06, 20.78s/it]"
     ]
    },
    {
     "name": "stdout",
     "output_type": "stream",
     "text": [
      "Epoch 21. Train loss 0.031. Train acc 68.625. Val loss 0.039. Val acc 72.000. "
     ]
    },
    {
     "name": "stderr",
     "output_type": "stream",
     "text": [
      " 73%|███████▎  | 22/30 [07:39<02:46, 20.77s/it]"
     ]
    },
    {
     "name": "stdout",
     "output_type": "stream",
     "text": [
      "Epoch 22. Train loss 0.030. Train acc 69.875. Val loss 0.040. Val acc 68.000. "
     ]
    },
    {
     "name": "stderr",
     "output_type": "stream",
     "text": [
      " 77%|███████▋  | 23/30 [08:00<02:25, 20.81s/it]"
     ]
    },
    {
     "name": "stdout",
     "output_type": "stream",
     "text": [
      "Epoch 23. Train loss 0.029. Train acc 72.000. Val loss 0.038. Val acc 70.000. "
     ]
    },
    {
     "name": "stderr",
     "output_type": "stream",
     "text": [
      " 80%|████████  | 24/30 [08:20<02:04, 20.79s/it]"
     ]
    },
    {
     "name": "stdout",
     "output_type": "stream",
     "text": [
      "Epoch 24. Train loss 0.029. Train acc 71.375. Val loss 0.040. Val acc 67.000. "
     ]
    },
    {
     "name": "stderr",
     "output_type": "stream",
     "text": [
      " 83%|████████▎ | 25/30 [08:41<01:43, 20.76s/it]"
     ]
    },
    {
     "name": "stdout",
     "output_type": "stream",
     "text": [
      "Epoch 25. Train loss 0.029. Train acc 73.750. Val loss 0.039. Val acc 69.000. "
     ]
    },
    {
     "name": "stderr",
     "output_type": "stream",
     "text": [
      " 87%|████████▋ | 26/30 [09:02<01:23, 20.80s/it]"
     ]
    },
    {
     "name": "stdout",
     "output_type": "stream",
     "text": [
      "Epoch 26. Train loss 0.028. Train acc 73.750. Val loss 0.038. Val acc 71.000. "
     ]
    },
    {
     "name": "stderr",
     "output_type": "stream",
     "text": [
      " 90%|█████████ | 27/30 [09:23<01:02, 20.70s/it]"
     ]
    },
    {
     "name": "stdout",
     "output_type": "stream",
     "text": [
      "Epoch 27. Train loss 0.028. Train acc 74.500. Val loss 0.037. Val acc 72.000. "
     ]
    },
    {
     "name": "stderr",
     "output_type": "stream",
     "text": [
      " 93%|█████████▎| 28/30 [09:43<00:41, 20.77s/it]"
     ]
    },
    {
     "name": "stdout",
     "output_type": "stream",
     "text": [
      "Epoch 28. Train loss 0.027. Train acc 73.625. Val loss 0.039. Val acc 64.000. "
     ]
    },
    {
     "name": "stderr",
     "output_type": "stream",
     "text": [
      " 97%|█████████▋| 29/30 [10:04<00:20, 20.77s/it]"
     ]
    },
    {
     "name": "stdout",
     "output_type": "stream",
     "text": [
      "Epoch 29. Train loss 0.027. Train acc 74.375. Val loss 0.037. Val acc 71.000. "
     ]
    },
    {
     "name": "stderr",
     "output_type": "stream",
     "text": [
      "100%|██████████| 30/30 [10:25<00:00, 20.85s/it]"
     ]
    },
    {
     "name": "stdout",
     "output_type": "stream",
     "text": [
      "Epoch 30. Train loss 0.027. Train acc 74.875. Val loss 0.041. Val acc 66.000. "
     ]
    },
    {
     "name": "stderr",
     "output_type": "stream",
     "text": [
      "\n"
     ]
    }
   ],
   "source": [
    "num_epochs = 30\n",
    "\n",
    "resnet, train_losses, val_losses = train(\n",
    "    model=resnet,\n",
    "    criterion=criterion,\n",
    "    optimizer=optimizer,\n",
    "    train_dataloader=train_dataloader,\n",
    "    test_dataloader=val_dataloader,\n",
    "    num_epochs=num_epochs\n",
    ")"
   ]
  },
  {
   "cell_type": "code",
   "execution_count": 48,
   "metadata": {
    "execution": {
     "iopub.execute_input": "2022-12-14T22:46:35.095389Z",
     "iopub.status.busy": "2022-12-14T22:46:35.094053Z",
     "iopub.status.idle": "2022-12-14T22:46:35.375898Z",
     "shell.execute_reply": "2022-12-14T22:46:35.374825Z",
     "shell.execute_reply.started": "2022-12-14T22:46:35.095310Z"
    }
   },
   "outputs": [
    {
     "data": {
      "image/png": "[encoded data removed]",
      "text/plain": [
       "<Figure size 864x864 with 1 Axes>"
      ]
     },
     "metadata": {
      "needs_background": "light"
     },
     "output_type": "display_data"
    }
   ],
   "source": [
    "x= list(range(num_epochs))\n",
    "fig = plt.figure(figsize=(12,12))\n",
    "ax  = fig.add_subplot(111)\n",
    "ax.plot(x, train_losses, c='b', label='Training loss',linewidth=5.0,alpha=0.4)\n",
    "ax.plot(x, val_losses, c='g', label='Validation loss',linewidth=2,alpha=1)\n",
    "leg = plt.legend(prop={'size': 15})\n",
    "plt.title(\"epoch vs loss\")\n",
    "plt.xlabel(\"epoch\")\n",
    "plt.ylabel(\"accuracy %\")\n",
    "plt.show()"
   ]
  },
  {
   "cell_type": "markdown",
   "metadata": {},
   "source": [
    "## Testing"
   ]
  },
  {
   "cell_type": "code",
   "execution_count": 49,
   "metadata": {
    "execution": {
     "iopub.execute_input": "2022-12-14T22:46:35.378415Z",
     "iopub.status.busy": "2022-12-14T22:46:35.377345Z",
     "iopub.status.idle": "2022-12-14T22:46:37.876891Z",
     "shell.execute_reply": "2022-12-14T22:46:37.875719Z",
     "shell.execute_reply.started": "2022-12-14T22:46:35.378371Z"
    }
   },
   "outputs": [],
   "source": [
    "y_test = []\n",
    "y_pred = []\n",
    "for img, label in test_subset:\n",
    "    img = torch.Tensor(img)\n",
    "    img = img.to(device)\n",
    "    resnet.eval()\n",
    "    prediction = resnet(img[None])\n",
    "    final_pred = classes[torch.max(prediction, dim=1)[1]]\n",
    "    y_test.append(label)\n",
    "    y_pred.append(genre_dict[final_pred])\n"
   ]
  },
  {
   "cell_type": "code",
   "execution_count": 50,
   "metadata": {
    "execution": {
     "iopub.execute_input": "2022-12-14T22:46:37.880037Z",
     "iopub.status.busy": "2022-12-14T22:46:37.879655Z",
     "iopub.status.idle": "2022-12-14T22:46:37.887495Z",
     "shell.execute_reply": "2022-12-14T22:46:37.886415Z",
     "shell.execute_reply.started": "2022-12-14T22:46:37.880000Z"
    }
   },
   "outputs": [
    {
     "name": "stdout",
     "output_type": "stream",
     "text": [
      "Test Accuracy: 69.7\n"
     ]
    }
   ],
   "source": [
    "print(\"Test Accuracy:\",(round(100*(np.array(y_test) == np.array(y_pred)).sum()/len(y_test),2)))"
   ]
  },
  {
   "cell_type": "code",
   "execution_count": 51,
   "metadata": {
    "execution": {
     "iopub.execute_input": "2022-12-14T22:46:37.889451Z",
     "iopub.status.busy": "2022-12-14T22:46:37.888799Z",
     "iopub.status.idle": "2022-12-14T22:46:38.067390Z",
     "shell.execute_reply": "2022-12-14T22:46:38.066219Z",
     "shell.execute_reply.started": "2022-12-14T22:46:37.889413Z"
    }
   },
   "outputs": [
    {
     "data": {
      "text/plain": [
       "5566"
      ]
     },
     "execution_count": 51,
     "metadata": {},
     "output_type": "execute_result"
    }
   ],
   "source": [
    "gc.collect()"
   ]
  },
  {
   "cell_type": "markdown",
   "metadata": {},
   "source": [
    "# Part 2: Recommend based on Sample\n",
    "## Method:\n",
    "Sample some music from the test set. (This is assumed to be what the user already listens to.)\n",
    "\n",
    "We will use this sample to recommend new music."
   ]
  },
  {
   "cell_type": "code",
   "execution_count": 52,
   "metadata": {
    "execution": {
     "iopub.execute_input": "2022-12-14T22:46:38.069915Z",
     "iopub.status.busy": "2022-12-14T22:46:38.069443Z",
     "iopub.status.idle": "2022-12-14T22:46:38.197941Z",
     "shell.execute_reply": "2022-12-14T22:46:38.196997Z",
     "shell.execute_reply.started": "2022-12-14T22:46:38.069820Z"
    }
   },
   "outputs": [],
   "source": [
    "## sample 5 random music from test set (these 5 are assumed to be what the user already listens to and they have unknown genre)\n",
    "usergenres=[]\n",
    "usermusic_ind = random.randint(0,len(test_subset),5)\n",
    "for i in usermusic_ind:\n",
    "    img,lab = test_subset[i]\n",
    "    img = torch.Tensor(img)\n",
    "    img = img.to(device)\n",
    "    resnet.eval()\n",
    "    prediction = resnet(img[None])\n",
    "    genre = classes[torch.max(prediction, dim=1)[1]]\n",
    "    usergenres.append(genre)\n",
    "usergenres= list(set(usergenres))"
   ]
  },
  {
   "cell_type": "code",
   "execution_count": 53,
   "metadata": {
    "execution": {
     "iopub.execute_input": "2022-12-14T22:46:38.200149Z",
     "iopub.status.busy": "2022-12-14T22:46:38.199772Z",
     "iopub.status.idle": "2022-12-14T22:46:38.206207Z",
     "shell.execute_reply": "2022-12-14T22:46:38.204814Z",
     "shell.execute_reply.started": "2022-12-14T22:46:38.200112Z"
    }
   },
   "outputs": [
    {
     "name": "stdout",
     "output_type": "stream",
     "text": [
      "['pop', 'jazz', 'disco']\n"
     ]
    }
   ],
   "source": [
    "print(usergenres)"
   ]
  },
  {
   "cell_type": "code",
   "execution_count": 54,
   "metadata": {
    "execution": {
     "iopub.execute_input": "2022-12-14T22:46:38.208552Z",
     "iopub.status.busy": "2022-12-14T22:46:38.208158Z",
     "iopub.status.idle": "2022-12-14T22:46:38.217472Z",
     "shell.execute_reply": "2022-12-14T22:46:38.216233Z",
     "shell.execute_reply.started": "2022-12-14T22:46:38.208517Z"
    }
   },
   "outputs": [],
   "source": [
    "'''\n",
    "These recommendations will make more sense if the genre set and the music\n",
    "dataset are bigger.for instance  in an audio streaming service like spotify\n",
    "or apple music etc.\n",
    "'''\n",
    "def recommendation(usergenres, playlistsize=5):\n",
    "    music_recommendations=[]\n",
    "    recmusic_ind = random.randint(0,100,playlistsize)\n",
    "    for i in range(playlistsize):\n",
    "        ## select random genre from the user's genres\n",
    "        x=random.randint(0,len(usergenres))\n",
    "        gen=usergenres[x]\n",
    "        ## sample music from that genre\n",
    "        path=f\"{gen}.000{int(recmusic_ind[i]/10)}{recmusic_ind[i]%10}\"\n",
    "        music_recommendations.append(path)\n",
    "        \n",
    "    return music_recommendations\n"
   ]
  },
  {
   "cell_type": "code",
   "execution_count": 55,
   "metadata": {
    "execution": {
     "iopub.execute_input": "2022-12-14T22:46:38.219576Z",
     "iopub.status.busy": "2022-12-14T22:46:38.219242Z",
     "iopub.status.idle": "2022-12-14T22:46:38.227891Z",
     "shell.execute_reply": "2022-12-14T22:46:38.226706Z",
     "shell.execute_reply.started": "2022-12-14T22:46:38.219544Z"
    }
   },
   "outputs": [
    {
     "name": "stdout",
     "output_type": "stream",
     "text": [
      "disco.00003\n",
      "jazz.00045\n",
      "jazz.00013\n",
      "disco.00051\n",
      "jazz.00097\n"
     ]
    }
   ],
   "source": [
    "#getting 5 recommendations\n",
    "rec = recommendation(usergenres,5)\n",
    "for i in rec:\n",
    "    print(i)"
   ]
  },
  {
   "cell_type": "code",
   "execution_count": null,
   "metadata": {},
   "outputs": [],
   "source": []
  }
 ],
 "metadata": {
  "kernelspec": {
   "display_name": "Python 3 (ipykernel)",
   "language": "python",
   "name": "python3"
  },
  "language_info": {
   "codemirror_mode": {
    "name": "ipython",
    "version": 3
   },
   "file_extension": ".py",
   "mimetype": "text/x-python",
   "name": "python",
   "nbconvert_exporter": "python",
   "pygments_lexer": "ipython3",
   "version": "3.9.13"
  }
 },
 "nbformat": 4,
 "nbformat_minor": 4
}
